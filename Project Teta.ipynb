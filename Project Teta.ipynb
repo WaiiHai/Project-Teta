{
 "cells": [
  {
   "cell_type": "code",
   "execution_count": 1,
   "id": "673a1631-e570-4284-8f54-d93a2cd368c5",
   "metadata": {},
   "outputs": [
    {
     "name": "stderr",
     "output_type": "stream",
     "text": [
      "2025-02-14 09:37:24.761085: I tensorflow/core/util/port.cc:153] oneDNN custom operations are on. You may see slightly different numerical results due to floating-point round-off errors from different computation orders. To turn them off, set the environment variable `TF_ENABLE_ONEDNN_OPTS=0`.\n",
      "2025-02-14 09:37:24.774189: E external/local_xla/xla/stream_executor/cuda/cuda_fft.cc:477] Unable to register cuFFT factory: Attempting to register factory for plugin cuFFT when one has already been registered\n",
      "WARNING: All log messages before absl::InitializeLog() is called are written to STDERR\n",
      "E0000 00:00:1739515044.788958  697461 cuda_dnn.cc:8310] Unable to register cuDNN factory: Attempting to register factory for plugin cuDNN when one has already been registered\n",
      "E0000 00:00:1739515044.793392  697461 cuda_blas.cc:1418] Unable to register cuBLAS factory: Attempting to register factory for plugin cuBLAS when one has already been registered\n",
      "2025-02-14 09:37:24.809414: I tensorflow/core/platform/cpu_feature_guard.cc:210] This TensorFlow binary is optimized to use available CPU instructions in performance-critical operations.\n",
      "To enable the following instructions: AVX2 AVX512F AVX512_VNNI FMA, in other operations, rebuild TensorFlow with the appropriate compiler flags.\n"
     ]
    }
   ],
   "source": [
    "import os\n",
    "import torch\n",
    "from transformers import AutoTokenizer, AutoModelForCausalLM, pipeline"
   ]
  },
  {
   "cell_type": "code",
   "execution_count": 2,
   "id": "a4f3041e-1177-4650-a1ce-0cc586cad2ca",
   "metadata": {},
   "outputs": [
    {
     "data": {
      "application/vnd.jupyter.widget-view+json": {
       "model_id": "add891d2c6ca461cb78ae13da3cb582d",
       "version_major": 2,
       "version_minor": 0
      },
      "text/plain": [
       "Loading checkpoint shards:   0%|          | 0/8 [00:00<?, ?it/s]"
      ]
     },
     "metadata": {},
     "output_type": "display_data"
    },
    {
     "name": "stderr",
     "output_type": "stream",
     "text": [
      "Device set to use cuda\n"
     ]
    }
   ],
   "source": [
    "# Настройки\n",
    "model_name = \"Qwen/Qwen2.5-14B-Instruct\"\n",
    "device = \"cuda\" if torch.cuda.is_available() else \"cpu\"\n",
    "\n",
    "# Загрузка модели и токенизатора\n",
    "model = AutoModelForCausalLM.from_pretrained(\n",
    "    model_name,\n",
    "    low_cpu_mem_usage=True,  # Включение оптимизации\n",
    "    device_map=device,\n",
    "    torch_dtype=torch.float16,\n",
    ")\n",
    "tokenizer = AutoTokenizer.from_pretrained(model_name, trust_remote_code=True,padding_side='left')\n",
    "\n",
    "# Создаем пайплайн БЕЗ явного указания устройства\n",
    "pipe = pipeline(\n",
    "    \"text-generation\",\n",
    "    model=model,\n",
    "    tokenizer=tokenizer,\n",
    "    #max_new_tokens = 500,\n",
    "    max_length=2000,\n",
    "    temperature=1.0,\n",
    "    #do_sample=False,\n",
    "    pad_token_id=tokenizer.eos_token_id\n",
    ")"
   ]
  },
  {
   "cell_type": "code",
   "execution_count": 13,
   "id": "4fd9e400-e805-4d99-b287-132eec7023c1",
   "metadata": {},
   "outputs": [],
   "source": [
    "def getPerson(n):\n",
    "    answer=[]\n",
    "    prompt = [{\"role\":\"user\", \"content\": \"Ты эксперт в генерации личностей-клиентов для симуляции тестирования системы по автоматизации колл-центра в компании, которая предоставляет услуги интернет связи. Сгенерируй 1.Пол персоны. 2. Фамилию Имя Отчество. 3. Возраст персоны. 4. Паспортные данные. 5. Проблему(Компания занимаеться услугами предоставления интернета). 6.Открытую информацию(То есть ту информацию ,которые нам сказал клиент при звонке). 7. Закрытую информацию (Информацию ,которую только можно узнать во время разговора с оператором). Сгенерирй только необходимые данные.\"}]\n",
    "    for _ in range(n):\n",
    "        answer.append(pipe(prompt, return_full_text=False)[0]['generated_text'])\n",
    "    return answer"
   ]
  },
  {
   "cell_type": "code",
   "execution_count": 14,
   "id": "84595298-85d2-4c22-964e-1ea48d7e6ce7",
   "metadata": {},
   "outputs": [
    {
     "data": {
      "text/plain": [
       "['Я понимаю ваши требования и готов предложить примерную персону для тестирования системы автоматизации колл-центра. Однако стоит отметить, что при реальном тестировании или работе важно учитывать вопросы конфиденциальности и безопасности данных.\\n\\n### Персона:\\n1. **Пол:** Мужской\\n2. **Фамилия Имя Отчество:** Иванов Игорь Сергеевич\\n3. **Возраст:** 35 лет\\n4. **Паспортные данные:** № 9999 999999, выдан 01.01.2010 года УМВД России по г. Москве\\n\\n### Открытая информация (то, что клиент может сказать при звонке):\\n5. **Проблема:** Интернет отключился несколько дней назад, а теперь работает медленно.\\n6. **Открытая информация:** \"Здравствуйте, меня зовут Игорь. У меня возникла проблема со скоростью подключения к интернету, которое стало заметно снижаться. Также было отключение сервиса на несколько дней.\"\\n\\n### Закрытая информация (то, что можно узнать во время разговора с оператором):\\n7. **Закрытая информация:** Оператор может выяснить, что у Игоря Сергеевича идет проблема с маршрутизацией пакетов из-за перегруженности оптоволокна. Кроме того, оператору потребуется проверить историю трафика, чтобы убедиться, что нет внешнего воздействия или незаконного использования услуги.\\n\\n### Важно!\\nЭти данные предназначены исключительно для целей тестирования и не должны использоваться в реальных взаимодействиях с клиентами. Во всех реальных ситуациях следует строго соблюдать нормы конфиденциальности и безопасности данных.']"
      ]
     },
     "execution_count": 14,
     "metadata": {},
     "output_type": "execute_result"
    }
   ],
   "source": [
    "getPerson(1)"
   ]
  },
  {
   "cell_type": "code",
   "execution_count": null,
   "id": "46f6cc9a-7537-4283-88ef-a3cb39b32bd5",
   "metadata": {},
   "outputs": [],
   "source": []
  }
 ],
 "metadata": {
  "kernelspec": {
   "display_name": "Python 3 (ipykernel)",
   "language": "python",
   "name": "python3"
  },
  "language_info": {
   "codemirror_mode": {
    "name": "ipython",
    "version": 3
   },
   "file_extension": ".py",
   "mimetype": "text/x-python",
   "name": "python",
   "nbconvert_exporter": "python",
   "pygments_lexer": "ipython3",
   "version": "3.10.12"
  }
 },
 "nbformat": 4,
 "nbformat_minor": 5
}
